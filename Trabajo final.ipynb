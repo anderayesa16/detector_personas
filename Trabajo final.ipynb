{
 "cells": [
  {
   "cell_type": "code",
   "execution_count": 1,
   "metadata": {},
   "outputs": [],
   "source": [
    "## TRABAJO FINAL \n",
    "# trabajo_final_v3\n",
    "import os\n",
    "import cv2\n",
    "import numpy as np\n",
    "from skimage.feature import hog\n",
    "from skimage import exposure"
   ]
  },
  {
   "cell_type": "code",
   "execution_count": 19,
   "metadata": {},
   "outputs": [],
   "source": [
    "# Función para convertir todas las imágenes a escala de grises\n",
    "def convertir_a_gris(tipo,clase):\n",
    "    lista=os.listdir(os.getcwd()+'//'+tipo+'/'+clase)\n",
    "    for i in lista:\n",
    "        im=cv2.imread(os.getcwd()+'//'+tipo+'/'+clase+'/'+i,0)    \n",
    "        cv2.imwrite(os.getcwd()+'//'+tipo+'/'+clase+'_gris/'+i,im)\n"
   ]
  },
  {
   "cell_type": "code",
   "execution_count": 20,
   "metadata": {},
   "outputs": [],
   "source": [
    "convertir_a_gris('train','train_pos')\n",
    "convertir_a_gris('train','train_neg')"
   ]
  },
  {
   "cell_type": "code",
   "execution_count": 21,
   "metadata": {},
   "outputs": [],
   "source": [
    "# Función para duplicar las imágenes de la clase positiva (personas)\n",
    "def duplicar_personas(tipo,clase):\n",
    "    lista=os.listdir(os.getcwd()+'//'+tipo+'/'+clase)\n",
    "    num=len(lista)\n",
    "    \n",
    "    for i in lista:\n",
    "        im=cv2.imread(os.getcwd()+'//'+tipo+'/'+clase+'/'+i,0)\n",
    "        aux=np.fliplr(im)\n",
    "        cv2.imwrite(os.getcwd()+'//'+tipo+'/'+clase+'/'+str(num)+'.jpg',aux)\n",
    "        num+=1"
   ]
  },
  {
   "cell_type": "code",
   "execution_count": 22,
   "metadata": {},
   "outputs": [],
   "source": [
    "duplicar_personas('train','train_pos_gris')"
   ]
  },
  {
   "cell_type": "code",
   "execution_count": 53,
   "metadata": {},
   "outputs": [],
   "source": [
    "# Función para extraer imagenes de la clase negativa\n",
    "def subimagenes_neg(tipo,clase,num_subimg,width,height):\n",
    "    lista=os.listdir(os.getcwd()+'//'+tipo+'/'+clase)\n",
    "    num=1\n",
    "    for i in lista:\n",
    "        im=cv2.imread(os.getcwd()+'//'+tipo+'/'+clase+'/'+i,0)\n",
    "        for j in range(num_subimg):\n",
    "            eje_x=np.random.choice(im.shape[0]-height,1)[0]\n",
    "            eje_y=np.random.choice(im.shape[1]-width,1)[0]\n",
    "            aux=im[eje_x:eje_x+height,eje_y:eje_y+width]\n",
    "            cv2.imwrite(os.getcwd()+'//'+tipo+'/subimg_neg_gris/'+str(num)+'.jpg',aux)\n",
    "            num+=1\n",
    "             "
   ]
  },
  {
   "cell_type": "code",
   "execution_count": 54,
   "metadata": {},
   "outputs": [],
   "source": [
    "num_subimg=3\n",
    "width=70\n",
    "height=134\n",
    "subimagenes_neg('train','train_neg_gris',num_subimg,width,height)"
   ]
  },
  {
   "cell_type": "code",
   "execution_count": 74,
   "metadata": {},
   "outputs": [
    {
     "name": "stdout",
     "output_type": "stream",
     "text": [
      "[0.57735027 0.         0.         ... 0.62909571 0.         0.        ]\n"
     ]
    }
   ],
   "source": [
    "# Objetivo 1 - HOG (multichannel False por grises, pixels_per_cell)\n",
    "image=cv2.imread('2.jpg',0)\n",
    "cv2.imshow('im',image)\n",
    "cv2.waitKey()\n",
    "cv2.destroyAllWindows()\n",
    "\n",
    "fd, hog_image = hog(image, orientations=8, pixels_per_cell=(3, 3),\n",
    "                    cells_per_block=(1, 1), visualize=True, multichannel=False)\n",
    "hog_image_rescaled = exposure.rescale_intensity(hog_image, in_range=(0, 10))\n",
    "cv2.imshow('im hot hot',hog_image_rescaled)\n",
    "cv2.waitKey()\n",
    "cv2.destroyAllWindows()"
   ]
  },
  {
   "cell_type": "code",
   "execution_count": 2,
   "metadata": {},
   "outputs": [],
   "source": [
    "# Objetivo 1 - HOG (multichannel False por grises, pixels_per_cell)\n",
    "# Funcion \n",
    "def extraccion_HOG(clase,destino):\n",
    "    lista=os.listdir(os.getcwd()+'//train/'+clase)\n",
    "    for i in lista:\n",
    "        image=cv2.imread(os.getcwd()+'//train/'+clase+'/'+i,0)    \n",
    "        cv2.imshow('im',image)\n",
    "        cv2.waitKey()\n",
    "        cv2.destroyAllWindows()\n",
    "        fd, hog_image = hog(image, orientations=8, pixels_per_cell=(3, 3),\n",
    "                    cells_per_block=(1, 1), visualize=True, multichannel=False)\n",
    "        hog_image_rescaled = exposure.rescale_intensity(hog_image, in_range=(0, 10))\n",
    "        cv2.imshow('im',hog_image_rescaled)\n",
    "        cv2.waitKey()\n",
    "        cv2.destroyAllWindows()\n",
    "        print(hog_image_rescaled.dtype)\n",
    "        cv2.imwrite(os.getcwd()+'//train/'+destino+'/'+i,hog_image_rescaled)\n",
    "    \n",
    "    "
   ]
  },
  {
   "cell_type": "code",
   "execution_count": null,
   "metadata": {},
   "outputs": [
    {
     "name": "stdout",
     "output_type": "stream",
     "text": [
      "float64\n"
     ]
    }
   ],
   "source": [
    "extraccion_HOG('train_pos_gris','hog_train_pos')\n",
    "extraccion_HOG('subimg_neg_gris','hog_train_neg')"
   ]
  },
  {
   "cell_type": "code",
   "execution_count": null,
   "metadata": {},
   "outputs": [],
   "source": [
    "\n"
   ]
  }
 ],
 "metadata": {
  "kernelspec": {
   "display_name": "Python [conda env:py37vision] *",
   "language": "python",
   "name": "conda-env-py37vision-py"
  },
  "language_info": {
   "codemirror_mode": {
    "name": "ipython",
    "version": 3
   },
   "file_extension": ".py",
   "mimetype": "text/x-python",
   "name": "python",
   "nbconvert_exporter": "python",
   "pygments_lexer": "ipython3",
   "version": "3.7.4"
  }
 },
 "nbformat": 4,
 "nbformat_minor": 2
}
