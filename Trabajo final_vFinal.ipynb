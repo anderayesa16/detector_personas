{
 "cells": [
  {
   "cell_type": "code",
   "execution_count": 57,
   "metadata": {},
   "outputs": [],
   "source": [
    "## TRABAJO FINAL - DETECTOR DE PERSONAS vFinal\n",
    "## Detector automatico de personas en una imagen. El programa genera un modelo a traves de imagenes de entrenamiento y\n",
    "## y luego busca personas en una imagen cualquiera.\n",
    "## version: trabajo_final_v14\n",
    "## Autores\n",
    "    ## Ayesa Moneo, Ander\n",
    "    ## Fernandez Ortega, Unai Javier\n",
    "    ## Soba Jimenez, Iñigo\n",
    "    \n",
    "# Librerias\n",
    "import os\n",
    "import cv2\n",
    "import numpy as np\n",
    "from skimage.feature import hog\n",
    "from skimage import exposure\n",
    "from sklearn.datasets import make_classification\n",
    "from matplotlib import pyplot as plt\n",
    "from sklearn.linear_model import LogisticRegression\n",
    "from sklearn.model_selection import train_test_split\n",
    "from sklearn.metrics import confusion_matrix\n",
    "import pandas as pd\n",
    "from sklearn import svm\n",
    "from skimage.transform import pyramid_gaussian\n",
    "\n",
    "import time"
   ]
  },
  {
   "cell_type": "code",
   "execution_count": 58,
   "metadata": {},
   "outputs": [],
   "source": [
    "# Genera el histograma de una imagen y lo ecualiza\n",
    "# param im: imagen que queremos ecualizar\n",
    "# return: imagen ecualizada\n",
    "def equalizar_imagen(im):\n",
    "    \n",
    "    hist,bins = np.histogram(im.flatten(), 256, [0,256])\n",
    "    cdf = hist.cumsum()\n",
    "    cdf_normalized = cdf * hist.max() / cdf.max()\n",
    "\n",
    "    cdf_m = np.ma.masked_equal(cdf,0)\n",
    "    cdf_m = (cdf_m - cdf_m.min()) * 255 / (cdf_m.max( )- cdf_m.min())\n",
    "    cdf = np.ma.filled(cdf_m, 0).astype('uint8')\n",
    "\n",
    "    imagenFinal= cdf[im]\n",
    "    return imagenFinal"
   ]
  },
  {
   "cell_type": "code",
   "execution_count": 59,
   "metadata": {},
   "outputs": [],
   "source": [
    "# Convierte a gris las imagenes contenidas en la direccion recibida\n",
    "# param tipo: tipo de las imagenes que queremos convertir a gris (train / test)\n",
    "# param clase: clase de las imagenes que queremos convertir a gris (pos / neg)\n",
    "def convertir_a_gris(tipo,clase):\n",
    "    \n",
    "    lista = os.listdir(os.getcwd() + '//' + tipo + '/' + clase)\n",
    "    \n",
    "    for i in lista:\n",
    "        im = cv2.imread(os.getcwd() + '//' + tipo + '/' + clase + '/' + i, 0)    \n",
    "        im = equalizar_imagen(im)\n",
    "        cv2.imwrite(os.getcwd() + '//' + tipo + '/' + clase + '_gris/' + i, im)\n"
   ]
  },
  {
   "cell_type": "code",
   "execution_count": 60,
   "metadata": {},
   "outputs": [],
   "source": [
    "# Duplica las imagenes contenidas en la ruta \n",
    "# param tipo: tipo de las imagenes que queremos convertir a gris (train / test)\n",
    "# param clase: clase de las imagenes que queremos convertir a gris (pos / neg)\n",
    "def duplicar_personas(tipo,clase):\n",
    "    \n",
    "    lista=os.listdir(os.getcwd() + '//' + tipo + '/' + clase)\n",
    "    num=len(lista)\n",
    "    \n",
    "    for i in lista:\n",
    "        im=cv2.imread(os.getcwd() + '//' + tipo + '/' + clase + '/' + i, 0)\n",
    "        aux=np.fliplr(im)\n",
    "        cv2.imwrite(os.getcwd() + '//' + tipo + '/' + clase + '/' + str(num) + '.jpg', aux)\n",
    "        num += 1"
   ]
  },
  {
   "cell_type": "code",
   "execution_count": 61,
   "metadata": {},
   "outputs": [],
   "source": [
    "# Crea subimagenes a partir de las imagenes de clase negativa\n",
    "# param tipo: tipo de las imagenes que queremos convertir a gris (train / test)\n",
    "# param clase: clase de las imagenes que queremos convertir a gris (pos / neg)\n",
    "# param num_subimg: numero de subimagenes que queremos por cada imagen\n",
    "# param width: tamaño de anchura que queremos que tengan las subimagenes obtenidas\n",
    "# param height: tamaño de altura que queremos que tengan las subimagenes obtenidas\n",
    "def subimagenes_neg(tipo,clase,num_subimg,width,height):\n",
    "    \n",
    "    lista=os.listdir(os.getcwd() + '//' + tipo + '/' + clase)\n",
    "    num = 1\n",
    "    \n",
    "    for i in lista:\n",
    "        im = cv2.imread(os.getcwd() + '//' + tipo + '/' + clase + '/' + i, 0)\n",
    "        for j in range(num_subimg):\n",
    "            eje_x = np.random.choice(im.shape[0] - height, 1)[0]\n",
    "            eje_y = np.random.choice(im.shape[1] - width, 1)[0]\n",
    "            aux = im[eje_x:eje_x + height, eje_y:eje_y + width]\n",
    "            cv2.imwrite(os.getcwd() + '//' + tipo + '/subimg_neg_gris/' + str(num) + '.jpg', aux)\n",
    "            num += 1\n",
    "             "
   ]
  },
  {
   "cell_type": "code",
   "execution_count": 62,
   "metadata": {},
   "outputs": [],
   "source": [
    "# HOG (multichannel False por grises, pixels_per_cell)\n",
    "# Crea vectores de caracteristicas de las imagenes en un directorio y los devuelve como una matriz de caracteristicas\n",
    "# param tipo: tipo de las imagenes que queremos convertir a gris (train / test)\n",
    "# param destino: directorio de destino de las imagenes\n",
    "# param clase: clase de las imagenes que queremos convertir a gris (pos / neg)\n",
    "# return: matriz de caracteristicas del conjunto de imagenes\n",
    "def HOG(clase, destino, tipo):\n",
    "    \n",
    "    lista = os.listdir(os.getcwd() + '//' + tipo + '/' + clase)\n",
    "    matriz_caracteristicas = np.zeros((0, 0))   \n",
    "    for i in lista:\n",
    "        image = cv2.imread(os.getcwd() + '//' + tipo + '/' + clase + '/' + i, 0)    \n",
    "        fd = hog(image, orientations = 8, pixels_per_cell = (32, 32),\n",
    "        cells_per_block = (1, 1))\n",
    "        fd = fd.reshape(1, -1)\n",
    "        if matriz_caracteristicas.size == 0:\n",
    "            matriz_caracteristicas = fd\n",
    "        else:\n",
    "            matriz_caracteristicas = np.vstack((matriz_caracteristicas,fd))\n",
    "\n",
    "    return matriz_caracteristicas"
   ]
  },
  {
   "cell_type": "code",
   "execution_count": 63,
   "metadata": {},
   "outputs": [],
   "source": [
    "# Prepara el entorno para realizar el entrenamiento de los modelos\n",
    "# param mc_pos: matriz de caracteristicas de las imagenes positivas\n",
    "# param mc_neg: matriz de caracteristicas de las imagenes negativas\n",
    "# return: matriz de caracteristicas conjunta y matriz de validacion con filas aleatorias de la matriz de caracteristicas\n",
    "def preparar_entrenamiento(mc_pos, mc_neg):\n",
    "    \n",
    "    #Preparamos train como la concatenación de train_pos y train_neg (Positiva 0 persona y negativa 1 no persona)\n",
    "    mc_pos_con_Clase = np.hstack((mc_pos, np.zeros((mc_pos.shape[0], 1))))\n",
    "    mc_neg_con_Clase = np.hstack((mc_neg, np.ones((mc_neg.shape[0], 1))))\n",
    "\n",
    "    matriz_caracteristicas = np.vstack((mc_pos_con_Clase, mc_neg_con_Clase))\n",
    "    np.random.shuffle(matriz_caracteristicas)\n",
    "\n",
    "    #Vamos a extraer una cantidad de filas para validacion\n",
    "    N = 150\n",
    "    aleat = np.random.randint(0, matriz_caracteristicas.shape[0] - N)\n",
    "\n",
    "    matriz_validacion = matriz_caracteristicas[aleat:aleat + N,:]\n",
    "    matriz_caracteristicas = np.delete(matriz_caracteristicas, slice(aleat, aleat + N), 0)\n",
    "    \n",
    "    return matriz_caracteristicas, matriz_validacion"
   ]
  },
  {
   "cell_type": "code",
   "execution_count": 64,
   "metadata": {},
   "outputs": [],
   "source": [
    "# Implementa un algoritmo de regresion logistica\n",
    "# param matriz_caracteristicas: matriz de caracteristicas usada para el entrenamiento\n",
    "# param matriz_validacion: matriz de caracteristicas de las imagenes usadas para validacion\n",
    "def modelo_regresion_logistica(matriz_caracteristicas, matriz_validacion):\n",
    "    #Importamos el modelo de regresion logistica\n",
    "    lr = LogisticRegression()\n",
    "    #Ahora vamos a entrenar el modelo\n",
    "    lr.fit(matriz_caracteristicas[:, :-1], matriz_caracteristicas[:, -1])\n",
    "        #Imprimimos ciertas caracteristicas del entrenamiento\n",
    "#     print(lr.coef_)\n",
    "#     print(lr.intercept_)\n",
    "        #Ahora vamos a probar la precision con el conjunto de validacion\n",
    "    y_pred = lr.predict(matriz_validacion[:,:-1])\n",
    "\n",
    "        #Vamos a ver la precision\n",
    "    solucion = matriz_validacion[:, -1] == y_pred\n",
    "    print('Accuracy train lr: ',solucion[solucion == True].shape[0] / solucion.shape[0])\n",
    "    \n",
    "    return lr"
   ]
  },
  {
   "cell_type": "code",
   "execution_count": 65,
   "metadata": {},
   "outputs": [],
   "source": [
    "#Implementa un algoritmo de support vector machine(svm)\n",
    "# param matriz_caracteristicas: matriz de caracteristicas usada para el entrenamiento\n",
    "# param matriz_validacion: matriz de caracteristicas de las imagenes usadas para validacion\n",
    "def modelo_svm(matriz_caracteristicas, matriz_validacion):\n",
    "    \n",
    "    svc = svm.LinearSVC(C = 10.0, loss = 'hinge', max_iter = 10000)\n",
    "    svc.fit(matriz_caracteristicas[:, :-1], matriz_caracteristicas[:, -1])\n",
    "    y_pred = svc.predict(matriz_validacion[:, :-1])\n",
    "\n",
    "    #Vamos a ver la precision\n",
    "    solucion = matriz_validacion[:, -1] == y_pred\n",
    "    print('Accuracy train svm: ',solucion[solucion == True].shape[0] / solucion.shape[0])\n",
    "    \n",
    "    return svc"
   ]
  },
  {
   "cell_type": "code",
   "execution_count": 66,
   "metadata": {},
   "outputs": [],
   "source": [
    "#Redimensiona un conjunto de imagenes al tamaño de la ventana\n",
    "# param tipo: tipo de las imagenes que queremos convertir a gris (train / test)\n",
    "# param clase: clase de las imagenes que queremos convertir a gris (pos / neg)\n",
    "def convertir_tamano(tipo, clase):\n",
    "    \n",
    "    lista = os.listdir(os.getcwd() + '//' + tipo + '/' + clase)\n",
    "    for i in lista:\n",
    "        im = cv2.imread(os.getcwd() + '//' + tipo + '/' + clase + '/' + i, 0)\n",
    "        imResize = cv2.resize(im, (70, 134))\n",
    "        cv2.imwrite(os.getcwd() + '//' + tipo + '/' + clase + '_tamano/' + i, imResize)"
   ]
  },
  {
   "cell_type": "code",
   "execution_count": 67,
   "metadata": {},
   "outputs": [],
   "source": [
    "# Realiza una prediccion en base al modelo generado con regresion logistica\n",
    "# param matriz_caracteristicas_test_pos: matriz de caracteristicas de las imagenes positivas de test\n",
    "# param matriz_caracteristicas_test_neg: matriz de caracteristicas de las imagenes negativas de test\n",
    "def prediccion_lr(matriz_caracteristicas_test_pos, matriz_caracteristicas_test_neg,lr):\n",
    "    \n",
    "    y_pred = lr.predict(matriz_caracteristicas_test_pos[:,:])\n",
    "    y_pred2 = lr.predict(matriz_caracteristicas_test_neg[:,:])\n",
    "\n",
    "    print('Accuracy test positivo lr: ',y_pred[y_pred == 0].size / y_pred.shape[0])\n",
    "    print('Accuracy test negativo lr: ',y_pred2[y_pred2 == 1].size / y_pred2.shape[0])"
   ]
  },
  {
   "cell_type": "code",
   "execution_count": 68,
   "metadata": {},
   "outputs": [],
   "source": [
    "# Realiza una prediccion en base al modelo generado con support vector machine\n",
    "# param matriz_caracteristicas_test_pos: matriz de caracteristicas de las imagenes positivas de test\n",
    "# param matriz_caracteristicas_test_neg: matriz de caracteristicas de las imagenes negativas de test\n",
    "def prediccion_svm(matriz_caracteristicas_test_pos, matriz_caracteristicas_test_neg,svc):\n",
    "    \n",
    "    y_pred = svc.predict(matriz_caracteristicas_test_pos[:,:])\n",
    "    y_pred2 = svc.predict(matriz_caracteristicas_test_neg[:,:])\n",
    "\n",
    "    print('Accuracy test positivo svm: ',y_pred[y_pred == 0].size / y_pred.shape[0])\n",
    "    print('Accuracy test negativo svm: ',y_pred2[y_pred2 == 1].size / y_pred2.shape[0])"
   ]
  },
  {
   "cell_type": "code",
   "execution_count": 69,
   "metadata": {},
   "outputs": [],
   "source": [
    "# Recorre la imagen usando una ventana deslizante y crea un vector que contenga esas ventanas\n",
    "# param im: imagen que queremos recorrer\n",
    "# param modelo: modelo entrenado\n",
    "# param tam_ventana: tamaño de la ventana deslizante\n",
    "# param salto: cantidad de pixeles que avanza la ventana cada vez\n",
    "# return: vector de ventanas recorridas\n",
    "def ventana_deslizante(im, modelo, tam_ventana, salto):\n",
    "    \n",
    "    vector_ventanas = []\n",
    "    for i in range(0, im.shape[0], salto[1]):\n",
    "        for j in range(0, im.shape[1], salto[0]):\n",
    "            ventana = im[i:i + tam_ventana[1],j:j + tam_ventana[0]]\n",
    "            vector_ventanas.append((i, j, ventana))\n",
    "   \n",
    "    return vector_ventanas"
   ]
  },
  {
   "cell_type": "code",
   "execution_count": 70,
   "metadata": {},
   "outputs": [],
   "source": [
    "#Analiza la imagen en base al modelo. Si hay una persona la rodea con un rectangulo y muestra la imagen\n",
    "# param im: imagen que queremos analizar\n",
    "# param modelo: modelo entrenado para reconocer personas\n",
    "# param tam_ventana: tamaño de la ventana con la que recorremos la imagen\n",
    "# param salto: cantidad de pixeles que avanzamos la ventana deslizante cada vez\n",
    "def analisis(im,modelo,tam_ventana,salto):\n",
    "    start_time = time.time()\n",
    "    imAux = np.copy(im)\n",
    "    img_aux = im.copy()\n",
    "    detectados = []\n",
    "    escala = 0\n",
    "    downscale = 1.5\n",
    "    for imagen_escalada in pyramid_gaussian(im, downscale = downscale):\n",
    "        if(imagen_escalada.shape[0] < 134 or imagen_escalada.shape[1] < 70):\n",
    "            break\n",
    "        for(i, j, ventana) in ventana_deslizante(imagen_escalada, modelo, tam_ventana, salto):\n",
    "            if(ventana.shape[0] != 134 or ventana.shape[1] != 70):\n",
    "                continue\n",
    "            fd = hog(ventana, orientations = 8, pixels_per_cell = (32, 32), cells_per_block=(1, 1),\n",
    "                     visualize = False)\n",
    "            fd = fd.reshape(1, -1)\n",
    "            pred = modelo.predict(fd)\n",
    "            \n",
    "            if(pred == 0):   \n",
    "                if(np.abs(modelo.decision_function(fd))>1.5):\n",
    "                    detectados.append((int(j * (downscale**escala)), int(i * (downscale**escala)),\n",
    "                              modelo.decision_function(fd),\n",
    "                              int(70 * (downscale**escala)),\n",
    "                              int(134 * (downscale**escala))))\n",
    "            else:\n",
    "                continue#print(\"NO HAY PERSONA\")  \n",
    "        escala += 1\n",
    "        \n",
    "    for(x, y, c, d, e) in detectados:\n",
    "        cv2.rectangle(im, (x, y), (x + d, y + e), (0,0,255), thickness = 2)\n",
    "\n",
    "    rectangulos = np.array([[i, j, i + d, j + e] for(i, j, c, d, e) in detectados])\n",
    "    rectangulos_finales = non_max_suppression(rectangulos, 0)\n",
    "    for(x1, y1, x2, y2) in rectangulos_finales:\n",
    "        cv2.rectangle(img_aux, (x1, y1), (x2, y2), (0,0,255), 2)\n",
    "    print(\"Tiempo de ejecucion analisis--- %s seconds ---\" % (time.time() - start_time))        \n",
    "    cv2.imshow(\"PERSONA sin supresion de no maximos\",im)\n",
    "    cv2.waitKey(0)\n",
    "    cv2.imshow(\"PERSONA 2 con supresion de no maximos\",img_aux)\n",
    "    cv2.waitKey(0)\n",
    "    cv2.destroyAllWindows()          \n"
   ]
  },
  {
   "cell_type": "code",
   "execution_count": 71,
   "metadata": {},
   "outputs": [],
   "source": [
    "def non_max_suppression(boxes, overlapThresh):\n",
    "\n",
    "    # Convertir enteros de los bounding boxes a float\n",
    "    if boxes.dtype.kind == \"i\":\n",
    "        boxes = boxes.astype(\"float\")\n",
    " \n",
    "    pick = []\n",
    " \n",
    "    x1 = boxes[:,0]\n",
    "    y1 = boxes[:,1]\n",
    "    x2 = boxes[:,2]\n",
    "    y2 = boxes[:,3]\n",
    " \n",
    "    # compute the area of the bounding boxes and sort the bounding\n",
    "    # boxes by the bottom-right y-coordinate of the bounding box\n",
    "    area = (x2 - x1 + 1) * (y2 - y1 + 1)\n",
    "    idxs = np.argsort(x1)\n",
    "\n",
    "    # keep looping while some indexes still remain in the indexes\n",
    "    # list\n",
    "    while len(idxs) > 0:\n",
    "        # grab the last index in the indexes list and add the\n",
    "        # index value to the list of picked indexes\n",
    "        last = len(idxs) - 1\n",
    "        i = idxs[last]\n",
    "        pick.append(i)\n",
    "\n",
    "        # find the largest (x, y) coordinates for the start of\n",
    "        # the bounding box and the smallest (x, y) coordinates\n",
    "        # for the end of the bounding box\n",
    "        xx1 = np.maximum(x1[i], x1[idxs[:last]])\n",
    "        yy1 = np.maximum(y1[i], y1[idxs[:last]])\n",
    "        xx2 = np.minimum(x2[i], x2[idxs[:last]])\n",
    "        yy2 = np.minimum(y2[i], y2[idxs[:last]])\n",
    "\n",
    "        # compute the width and height of the bounding box\n",
    "        w = np.maximum(0, xx2 - xx1 + 1)\n",
    "        h = np.maximum(0, yy2 - yy1 + 1)\n",
    "\n",
    "        # compute the ratio of overlap\n",
    "        overlap = (w * h) / area[idxs[:last]]\n",
    "        # delete all indexes from the index list that have\n",
    "        idxs = np.delete(idxs, np.concatenate(([last],\n",
    "            np.where(overlap > overlapThresh)[0])))\n",
    "\n",
    "    # return only the bounding boxes that were picked using the\n",
    "    # integer data type\n",
    "    return boxes[pick].astype(\"int\")"
   ]
  },
  {
   "cell_type": "markdown",
   "metadata": {},
   "source": [
    "PROGRAMA PRINCIPAL"
   ]
  },
  {
   "cell_type": "code",
   "execution_count": 83,
   "metadata": {},
   "outputs": [
    {
     "name": "stdout",
     "output_type": "stream",
     "text": [
      "Tiempo de conversion a gris total--- 3.9062440395355225 seconds ---\n"
     ]
    },
    {
     "name": "stderr",
     "output_type": "stream",
     "text": [
      "C:\\ProgramData\\Anaconda3\\envs\\py37vision\\lib\\site-packages\\sklearn\\linear_model\\logistic.py:432: FutureWarning: Default solver will be changed to 'lbfgs' in 0.22. Specify a solver to silence this warning.\n",
      "  FutureWarning)\n"
     ]
    },
    {
     "name": "stdout",
     "output_type": "stream",
     "text": [
      "Accuracy train lr:  0.84\n"
     ]
    },
    {
     "name": "stderr",
     "output_type": "stream",
     "text": [
      "C:\\ProgramData\\Anaconda3\\envs\\py37vision\\lib\\site-packages\\sklearn\\svm\\base.py:929: ConvergenceWarning: Liblinear failed to converge, increase the number of iterations.\n",
      "  \"the number of iterations.\", ConvergenceWarning)\n"
     ]
    },
    {
     "name": "stdout",
     "output_type": "stream",
     "text": [
      "Accuracy train svm:  0.8666666666666667\n",
      "Accuracy test positivo lr:  0.96\n",
      "Accuracy test negativo lr:  0.7\n",
      "Accuracy test positivo svm:  0.9\n",
      "Accuracy test negativo svm:  0.9\n"
     ]
    },
    {
     "name": "stderr",
     "output_type": "stream",
     "text": [
      "C:\\ProgramData\\Anaconda3\\envs\\py37vision\\lib\\site-packages\\skimage\\transform\\_warps.py:23: UserWarning: The default multichannel argument (None) is deprecated.  Please specify either True or False explicitly.  multichannel will default to False starting with release 0.16.\n",
      "  warn('The default multichannel argument (None) is deprecated.  Please '\n",
      "C:\\ProgramData\\Anaconda3\\envs\\py37vision\\lib\\site-packages\\skimage\\transform\\_warps.py:23: UserWarning: The default multichannel argument (None) is deprecated.  Please specify either True or False explicitly.  multichannel will default to False starting with release 0.16.\n",
      "  warn('The default multichannel argument (None) is deprecated.  Please '\n"
     ]
    },
    {
     "name": "stdout",
     "output_type": "stream",
     "text": [
      "Tiempo de ejecucion analisis--- 1.0156142711639404 seconds ---\n",
      "Tiempo de ejecucion total--- 36.783427715301514 seconds ---\n"
     ]
    }
   ],
   "source": [
    "start_time = time.time()\n",
    "\n",
    "# Convertimos a gris las imagenes que usamos en el entrenamiento\n",
    "convertir_a_gris('train', 'train_pos')\n",
    "convertir_a_gris('train', 'train_neg')\n",
    "print(\"Tiempo de conversion a gris total--- %s seconds ---\" % (time.time() - start_time))\n",
    "# Duplicamos las imagenes positivas para tener mas cantidad\n",
    "duplicar_personas('train', 'train_pos_gris')\n",
    "\n",
    "# Obtenemos las subimagenes de las imagenes negativas para tener mas imagenes con las que entrenar\n",
    "subimagenes_neg('train', 'train_neg_gris', 3, 70, 134)\n",
    "\n",
    "# Obtenemos las matrices de caracteristicas de las imagenes positivas y negativas\n",
    "matriz_caracteristicas_pos=HOG('train_pos_gris','hog_train_pos','train')\n",
    "matriz_caracteristicas_neg=HOG('subimg_neg_gris','hog_train_neg', 'train')\n",
    "\n",
    "#Pasamos a blanco y negro las imagenes de test\n",
    "convertir_a_gris('test', 'neg')\n",
    "convertir_a_gris('test', 'pos')\n",
    "\n",
    "#Ahora creamos la carpeta con las imagenes redimensionadas\n",
    "convertir_tamano('test','neg_gris')\n",
    "convertir_tamano('test','pos_gris')\n",
    "\n",
    "#Ahora vamos a tomar las imagenes de test y vamos a predecir en test        \n",
    "matriz_caracteristicas_test_pos = HOG('pos_gris_tamano', 'hog_train_pos', 'test')\n",
    "matriz_caracteristicas_test_neg = HOG('neg_gris_tamano', 'hog_train_neg', 'test')\n",
    "\n",
    "\n",
    "\n",
    "matriz_caracteristicas,matriz_validacion=preparar_entrenamiento(matriz_caracteristicas_pos, matriz_caracteristicas_neg)\n",
    "#Entrenamos los modelos\n",
    "lr=modelo_regresion_logistica(matriz_caracteristicas, matriz_validacion)\n",
    "svc=modelo_svm(matriz_caracteristicas, matriz_validacion)\n",
    "\n",
    "#Hacemos la prediccion con ambos modelos\n",
    "prediccion_lr(matriz_caracteristicas_test_pos, matriz_caracteristicas_test_neg,lr)\n",
    "prediccion_svm(matriz_caracteristicas_test_pos, matriz_caracteristicas_test_neg,svc)\n",
    "\n",
    "#Ejecutamos el programa principal con una imagen de prueba\n",
    "im=cv2.imread('prueba_4.PNG',0)\n",
    "#Se llama a la funcion principal del código\n",
    "vector_ventanas = analisis(im, lr,[70,134],[10,20])\n",
    "\n",
    "print(\"Tiempo de ejecucion total--- %s seconds ---\" % (time.time() - start_time))"
   ]
  },
  {
   "cell_type": "code",
   "execution_count": null,
   "metadata": {},
   "outputs": [],
   "source": [
    "#Para no tener que volver a ejecutar el procesamiento de todas la imagenes, puedes ejecutar esta casilla \n",
    "# cambiando el nombre de la imagen\n",
    "im=cv2.imread('prueba_3.jpg',0)\n",
    "#Se llama a la funcion principal del código\n",
    "vector_ventanas = analisis(im, svc,[70,134],[10,20])"
   ]
  }
 ],
 "metadata": {
  "kernelspec": {
   "display_name": "Python 3",
   "language": "python",
   "name": "python3"
  },
  "language_info": {
   "codemirror_mode": {
    "name": "ipython",
    "version": 3
   },
   "file_extension": ".py",
   "mimetype": "text/x-python",
   "name": "python",
   "nbconvert_exporter": "python",
   "pygments_lexer": "ipython3",
   "version": "3.7.4"
  }
 },
 "nbformat": 4,
 "nbformat_minor": 2
}
